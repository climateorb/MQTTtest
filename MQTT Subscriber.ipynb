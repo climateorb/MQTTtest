{
 "cells": [
  {
   "cell_type": "code",
   "execution_count": 1,
   "metadata": {},
   "outputs": [
    {
     "name": "stdout",
     "output_type": "stream",
     "text": [
      "Collecting paho-mqtt\n",
      "  Downloading https://files.pythonhosted.org/packages/25/63/db25e62979c2a716a74950c9ed658dce431b5cb01fde29eb6cba9489a904/paho-mqtt-1.4.0.tar.gz (88kB)\n",
      "Building wheels for collected packages: paho-mqtt\n",
      "  Running setup.py bdist_wheel for paho-mqtt: started\n",
      "  Running setup.py bdist_wheel for paho-mqtt: finished with status 'done'\n",
      "  Stored in directory: C:\\Users\\Neera\\AppData\\Local\\pip\\Cache\\wheels\\82\\e5\\de\\d90d0f397648a1b58ffeea1b5742ac8c77f71fd43b550fa5a5\n",
      "Successfully built paho-mqtt\n",
      "Installing collected packages: paho-mqtt\n",
      "Successfully installed paho-mqtt-1.4.0\n"
     ]
    }
   ],
   "source": [
    "!pip install paho-mqtt"
   ]
  },
  {
   "cell_type": "code",
   "execution_count": 5,
   "metadata": {},
   "outputs": [],
   "source": [
    "import paho.mqtt.client as mqtt"
   ]
  },
  {
   "cell_type": "code",
   "execution_count": 64,
   "metadata": {},
   "outputs": [],
   "source": [
    "def on_connect(client, userdata, flags, rc):\n",
    "    print(\"Connected with result code \" + str(rc))\n",
    "    \n",
    "def on_disconnect(client, userdata, rc):\n",
    "    print(\"Disconnected with result code \" + str(rc))\n",
    "        \n",
    "def on_message(client, userdata, msg):\n",
    "    message = msg.payload.decode(\"utf-8\")\n",
    "    print(message)"
   ]
  },
  {
   "cell_type": "code",
   "execution_count": 53,
   "metadata": {},
   "outputs": [],
   "source": [
    "mqtt_server_ip = \"127.0.0.1\"\n",
    "server_port = 1883\n",
    "\n",
    "# unique client id\n",
    "client_id = 'air_pollution_analyzer'"
   ]
  },
  {
   "cell_type": "code",
   "execution_count": null,
   "metadata": {},
   "outputs": [
    {
     "name": "stdout",
     "output_type": "stream",
     "text": [
      "connected\n",
      "Connected with result code 0\n",
      "Guten Tag!\n",
      "Guten Tag!\n",
      "Guten Tag!\n",
      "Guten Tag!\n",
      "Guten Tag!\n"
     ]
    }
   ],
   "source": [
    "client = mqtt.Client(protocol=mqtt.MQTTv311)\n",
    "client = mqtt.Client(client_id)\n",
    "\n",
    "username = 'sub_client'\n",
    "password = 'password'\n",
    "\n",
    "# set username password\n",
    "client.username_pw_set(username, password=password)\n",
    "\n",
    "#client.tls_set(ca_certs=None)\n",
    "client.on_connect = on_connect\n",
    "client.on_disconnect = on_disconnect\n",
    "client.on_message = on_message\n",
    "\n",
    "client.connect(mqtt_server_ip, port=server_port, keepalive=60)\n",
    "client.subscribe('ch1')\n",
    "\n",
    "# start loop forever to subscribe wanted topic\n",
    "client.loop_forever()"
   ]
  },
  {
   "cell_type": "code",
   "execution_count": 61,
   "metadata": {},
   "outputs": [
    {
     "data": {
      "text/plain": [
       "0"
      ]
     },
     "execution_count": 61,
     "metadata": {},
     "output_type": "execute_result"
    }
   ],
   "source": [
    "client.disconnect()"
   ]
  }
 ],
 "metadata": {
  "kernelspec": {
   "display_name": "Python 3",
   "language": "python",
   "name": "python3"
  },
  "language_info": {
   "codemirror_mode": {
    "name": "ipython",
    "version": 3
   },
   "file_extension": ".py",
   "mimetype": "text/x-python",
   "name": "python",
   "nbconvert_exporter": "python",
   "pygments_lexer": "ipython3",
   "version": "3.7.1"
  }
 },
 "nbformat": 4,
 "nbformat_minor": 2
}
